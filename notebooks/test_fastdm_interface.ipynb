{
 "metadata": {
  "name": "",
  "signature": "sha256:9900b3718644ff65af73045d7d3f5346eeb6fd8725b495a7ee6f95e9ef8a6539"
 },
 "nbformat": 3,
 "nbformat_minor": 0,
 "worksheets": [
  {
   "cells": [
    {
     "cell_type": "markdown",
     "metadata": {},
     "source": [
      "# FastDM Python wrapper demo\n",
      "\n",
      "A short demo of how easy you can fit DDM models using fastdm and Python, on multiple cores"
     ]
    },
    {
     "cell_type": "code",
     "collapsed": false,
     "input": [
      "import fastdm\n",
      "import pandas"
     ],
     "language": "python",
     "metadata": {},
     "outputs": [],
     "prompt_number": 5
    },
    {
     "cell_type": "markdown",
     "metadata": {},
     "source": [
      "load in data"
     ]
    },
    {
     "cell_type": "code",
     "collapsed": false,
     "input": [
      "data = pandas.load('/home/gdholla1/data/tdcs/data/leiden/leiden.pandas')"
     ],
     "language": "python",
     "metadata": {},
     "outputs": [],
     "prompt_number": 9
    },
    {
     "cell_type": "markdown",
     "metadata": {},
     "source": [
      "Set up the model. We feed in:\n",
      " * A Pandas DataFrame with columns RT and response\n",
      " * A dictionary indicating which parameters depend on which conditions"
     ]
    },
    {
     "cell_type": "code",
     "collapsed": false,
     "input": [
      "model = fastdm.FastDM(data, \n",
      "                      depends_on={'a':['acc_spd', 'stimulation'],\n",
      "                                  't0':['acc_spd', 'stimulation'],})"
     ],
     "language": "python",
     "metadata": {},
     "outputs": [],
     "prompt_number": 10
    },
    {
     "cell_type": "markdown",
     "metadata": {},
     "source": [
      "We fit using 10 CPU cores at the same time"
     ]
    },
    {
     "cell_type": "code",
     "collapsed": false,
     "input": [
      "model.fit(nproc=10)"
     ],
     "language": "python",
     "metadata": {},
     "outputs": [
      {
       "output_type": "stream",
       "stream": "stdout",
       "text": [
        "Running fast-dm on experiment_2.ctl\n",
        "Running fast-dm on experiment_7.ctl\n",
        "Running fast-dm on experiment_4.ctl\n",
        "Running fast-dm on experiment_5.ctl\n",
        "Running fast-dm on experiment_1.ctl\n",
        "Running fast-dm on experiment_3.ctl\n",
        "Running fast-dm on experiment_6.ctl\n"
       ]
      },
      {
       "metadata": {},
       "output_type": "pyout",
       "prompt_number": 11,
       "text": [
        "<multiprocessing.pool.Pool at 0x4ba1490>"
       ]
      }
     ],
     "prompt_number": 11
    },
    {
     "cell_type": "markdown",
     "metadata": {},
     "source": [
      "Now we can extract a FastDMResult-object"
     ]
    },
    {
     "cell_type": "code",
     "collapsed": false,
     "input": [
      "pars = model.get_parameters()"
     ],
     "language": "python",
     "metadata": {},
     "outputs": [],
     "prompt_number": 31
    },
    {
     "cell_type": "markdown",
     "metadata": {},
     "source": [
      "That has a dataframe _parameters_ as an attribute"
     ]
    },
    {
     "cell_type": "code",
     "collapsed": false,
     "input": [
      "pars.parameters"
     ],
     "language": "python",
     "metadata": {},
     "outputs": [
      {
       "html": [
        "<div style=\"max-height:1000px;max-width:1500px;overflow:auto;\">\n",
        "<table border=\"1\" class=\"dataframe\">\n",
        "  <thead>\n",
        "    <tr style=\"text-align: right;\">\n",
        "      <th></th>\n",
        "      <th>a_acc_anodal</th>\n",
        "      <th>a_acc_sham</th>\n",
        "      <th>a_spd_anodal</th>\n",
        "      <th>a_spd_sham</th>\n",
        "      <th>d</th>\n",
        "      <th>fit</th>\n",
        "      <th>method</th>\n",
        "      <th>penalty</th>\n",
        "      <th>st0</th>\n",
        "      <th>sv</th>\n",
        "      <th>szr</th>\n",
        "      <th>t0_acc_anodal</th>\n",
        "      <th>t0_acc_sham</th>\n",
        "      <th>t0_spd_anodal</th>\n",
        "      <th>t0_spd_sham</th>\n",
        "      <th>time</th>\n",
        "      <th>v</th>\n",
        "      <th>subj_idx</th>\n",
        "    </tr>\n",
        "    <tr>\n",
        "      <th>subj_idx</th>\n",
        "      <th></th>\n",
        "      <th></th>\n",
        "      <th></th>\n",
        "      <th></th>\n",
        "      <th></th>\n",
        "      <th></th>\n",
        "      <th></th>\n",
        "      <th></th>\n",
        "      <th></th>\n",
        "      <th></th>\n",
        "      <th></th>\n",
        "      <th></th>\n",
        "      <th></th>\n",
        "      <th></th>\n",
        "      <th></th>\n",
        "      <th></th>\n",
        "      <th></th>\n",
        "      <th></th>\n",
        "    </tr>\n",
        "  </thead>\n",
        "  <tbody>\n",
        "    <tr>\n",
        "      <th>2</th>\n",
        "      <td>    NaN</td>\n",
        "      <td> 1.2304</td>\n",
        "      <td>    NaN</td>\n",
        "      <td> 0.8493</td>\n",
        "      <td>-0.0036</td>\n",
        "      <td> 0.3139</td>\n",
        "      <td> KS</td>\n",
        "      <td> 0</td>\n",
        "      <td> 0.1019</td>\n",
        "      <td> 0.4961</td>\n",
        "      <td> 0.4870</td>\n",
        "      <td>    NaN</td>\n",
        "      <td> 0.4718</td>\n",
        "      <td>    NaN</td>\n",
        "      <td> 0.4259</td>\n",
        "      <td> 11.58</td>\n",
        "      <td> 1.4959</td>\n",
        "      <td> 2</td>\n",
        "    </tr>\n",
        "    <tr>\n",
        "      <th>1</th>\n",
        "      <td> 2.0622</td>\n",
        "      <td>    NaN</td>\n",
        "      <td> 1.0335</td>\n",
        "      <td>    NaN</td>\n",
        "      <td> 0.0385</td>\n",
        "      <td> 0.1232</td>\n",
        "      <td> KS</td>\n",
        "      <td> 0</td>\n",
        "      <td> 0.0786</td>\n",
        "      <td> 1.0405</td>\n",
        "      <td> 0.3692</td>\n",
        "      <td> 0.4299</td>\n",
        "      <td>    NaN</td>\n",
        "      <td> 0.3931</td>\n",
        "      <td>    NaN</td>\n",
        "      <td> 27.93</td>\n",
        "      <td> 2.6697</td>\n",
        "      <td> 1</td>\n",
        "    </tr>\n",
        "    <tr>\n",
        "      <th>4</th>\n",
        "      <td>    NaN</td>\n",
        "      <td> 0.8207</td>\n",
        "      <td>    NaN</td>\n",
        "      <td> 0.7250</td>\n",
        "      <td>-0.0145</td>\n",
        "      <td> 0.4445</td>\n",
        "      <td> KS</td>\n",
        "      <td> 0</td>\n",
        "      <td> 0.1906</td>\n",
        "      <td> 0.6474</td>\n",
        "      <td> 0.3718</td>\n",
        "      <td>    NaN</td>\n",
        "      <td> 0.3533</td>\n",
        "      <td>    NaN</td>\n",
        "      <td> 0.3469</td>\n",
        "      <td>  6.59</td>\n",
        "      <td> 0.1914</td>\n",
        "      <td> 4</td>\n",
        "    </tr>\n",
        "    <tr>\n",
        "      <th>7</th>\n",
        "      <td> 1.1676</td>\n",
        "      <td>    NaN</td>\n",
        "      <td> 1.1529</td>\n",
        "      <td>    NaN</td>\n",
        "      <td>-0.0145</td>\n",
        "      <td> 0.1342</td>\n",
        "      <td> KS</td>\n",
        "      <td> 0</td>\n",
        "      <td> 0.1796</td>\n",
        "      <td> 0.8161</td>\n",
        "      <td> 0.3894</td>\n",
        "      <td> 0.2723</td>\n",
        "      <td>    NaN</td>\n",
        "      <td> 0.2697</td>\n",
        "      <td>    NaN</td>\n",
        "      <td> 22.60</td>\n",
        "      <td> 0.4535</td>\n",
        "      <td> 7</td>\n",
        "    </tr>\n",
        "    <tr>\n",
        "      <th>5</th>\n",
        "      <td> 1.5793</td>\n",
        "      <td>    NaN</td>\n",
        "      <td> 0.8046</td>\n",
        "      <td>    NaN</td>\n",
        "      <td> 0.0079</td>\n",
        "      <td> 0.4626</td>\n",
        "      <td> KS</td>\n",
        "      <td> 0</td>\n",
        "      <td> 0.1140</td>\n",
        "      <td> 0.5652</td>\n",
        "      <td> 0.4924</td>\n",
        "      <td> 0.5314</td>\n",
        "      <td>    NaN</td>\n",
        "      <td> 0.4500</td>\n",
        "      <td>    NaN</td>\n",
        "      <td> 10.38</td>\n",
        "      <td> 2.0744</td>\n",
        "      <td> 5</td>\n",
        "    </tr>\n",
        "    <tr>\n",
        "      <th>3</th>\n",
        "      <td> 1.2111</td>\n",
        "      <td>    NaN</td>\n",
        "      <td> 0.7283</td>\n",
        "      <td>    NaN</td>\n",
        "      <td>-0.0202</td>\n",
        "      <td> 0.8502</td>\n",
        "      <td> KS</td>\n",
        "      <td> 0</td>\n",
        "      <td> 0.2516</td>\n",
        "      <td> 1.0173</td>\n",
        "      <td> 0.1926</td>\n",
        "      <td> 0.5259</td>\n",
        "      <td>    NaN</td>\n",
        "      <td> 0.3912</td>\n",
        "      <td>    NaN</td>\n",
        "      <td> 17.62</td>\n",
        "      <td> 0.3991</td>\n",
        "      <td> 3</td>\n",
        "    </tr>\n",
        "    <tr>\n",
        "      <th>6</th>\n",
        "      <td>    NaN</td>\n",
        "      <td> 0.7969</td>\n",
        "      <td>    NaN</td>\n",
        "      <td> 0.6579</td>\n",
        "      <td>-0.0094</td>\n",
        "      <td> 0.0999</td>\n",
        "      <td> KS</td>\n",
        "      <td> 0</td>\n",
        "      <td> 0.1201</td>\n",
        "      <td> 1.2397</td>\n",
        "      <td> 0.3093</td>\n",
        "      <td>    NaN</td>\n",
        "      <td> 0.3737</td>\n",
        "      <td>    NaN</td>\n",
        "      <td> 0.3776</td>\n",
        "      <td>  6.57</td>\n",
        "      <td> 3.0034</td>\n",
        "      <td> 6</td>\n",
        "    </tr>\n",
        "  </tbody>\n",
        "</table>\n",
        "</div>"
       ],
       "metadata": {},
       "output_type": "pyout",
       "prompt_number": 41,
       "text": [
        "          a_acc_anodal  a_acc_sham  a_spd_anodal  a_spd_sham       d     fit  \\\n",
        "subj_idx                                                                       \n",
        "2                  NaN      1.2304           NaN      0.8493 -0.0036  0.3139   \n",
        "1               2.0622         NaN        1.0335         NaN  0.0385  0.1232   \n",
        "4                  NaN      0.8207           NaN      0.7250 -0.0145  0.4445   \n",
        "7               1.1676         NaN        1.1529         NaN -0.0145  0.1342   \n",
        "5               1.5793         NaN        0.8046         NaN  0.0079  0.4626   \n",
        "3               1.2111         NaN        0.7283         NaN -0.0202  0.8502   \n",
        "6                  NaN      0.7969           NaN      0.6579 -0.0094  0.0999   \n",
        "\n",
        "         method  penalty     st0      sv     szr  t0_acc_anodal  t0_acc_sham  \\\n",
        "subj_idx                                                                       \n",
        "2            KS        0  0.1019  0.4961  0.4870            NaN       0.4718   \n",
        "1            KS        0  0.0786  1.0405  0.3692         0.4299          NaN   \n",
        "4            KS        0  0.1906  0.6474  0.3718            NaN       0.3533   \n",
        "7            KS        0  0.1796  0.8161  0.3894         0.2723          NaN   \n",
        "5            KS        0  0.1140  0.5652  0.4924         0.5314          NaN   \n",
        "3            KS        0  0.2516  1.0173  0.1926         0.5259          NaN   \n",
        "6            KS        0  0.1201  1.2397  0.3093            NaN       0.3737   \n",
        "\n",
        "          t0_spd_anodal  t0_spd_sham   time       v subj_idx  \n",
        "subj_idx                                                      \n",
        "2                   NaN       0.4259  11.58  1.4959        2  \n",
        "1                0.3931          NaN  27.93  2.6697        1  \n",
        "4                   NaN       0.3469   6.59  0.1914        4  \n",
        "7                0.2697          NaN  22.60  0.4535        7  \n",
        "5                0.4500          NaN  10.38  2.0744        5  \n",
        "3                0.3912          NaN  17.62  0.3991        3  \n",
        "6                   NaN       0.3776   6.57  3.0034        6  "
       ]
      }
     ],
     "prompt_number": 41
    },
    {
     "cell_type": "markdown",
     "metadata": {},
     "source": [
      "You can also make a 'melted' dataframe for a single parameter"
     ]
    },
    {
     "cell_type": "code",
     "collapsed": false,
     "input": [
      "p = pars.melted_parameters('t0')\n",
      "p"
     ],
     "language": "python",
     "metadata": {},
     "outputs": [
      {
       "html": [
        "<div style=\"max-height:1000px;max-width:1500px;overflow:auto;\">\n",
        "<table border=\"1\" class=\"dataframe\">\n",
        "  <thead>\n",
        "    <tr style=\"text-align: right;\">\n",
        "      <th></th>\n",
        "      <th>subj_idx</th>\n",
        "      <th>t0</th>\n",
        "      <th>acc_spd</th>\n",
        "      <th>stimulation</th>\n",
        "    </tr>\n",
        "  </thead>\n",
        "  <tbody>\n",
        "    <tr>\n",
        "      <th>1 </th>\n",
        "      <td> 1</td>\n",
        "      <td> 0.4299</td>\n",
        "      <td> acc</td>\n",
        "      <td> anodal</td>\n",
        "    </tr>\n",
        "    <tr>\n",
        "      <th>3 </th>\n",
        "      <td> 7</td>\n",
        "      <td> 0.2723</td>\n",
        "      <td> acc</td>\n",
        "      <td> anodal</td>\n",
        "    </tr>\n",
        "    <tr>\n",
        "      <th>4 </th>\n",
        "      <td> 5</td>\n",
        "      <td> 0.5314</td>\n",
        "      <td> acc</td>\n",
        "      <td> anodal</td>\n",
        "    </tr>\n",
        "    <tr>\n",
        "      <th>5 </th>\n",
        "      <td> 3</td>\n",
        "      <td> 0.5259</td>\n",
        "      <td> acc</td>\n",
        "      <td> anodal</td>\n",
        "    </tr>\n",
        "    <tr>\n",
        "      <th>7 </th>\n",
        "      <td> 2</td>\n",
        "      <td> 0.4718</td>\n",
        "      <td> acc</td>\n",
        "      <td>   sham</td>\n",
        "    </tr>\n",
        "    <tr>\n",
        "      <th>9 </th>\n",
        "      <td> 4</td>\n",
        "      <td> 0.3533</td>\n",
        "      <td> acc</td>\n",
        "      <td>   sham</td>\n",
        "    </tr>\n",
        "    <tr>\n",
        "      <th>13</th>\n",
        "      <td> 6</td>\n",
        "      <td> 0.3737</td>\n",
        "      <td> acc</td>\n",
        "      <td>   sham</td>\n",
        "    </tr>\n",
        "    <tr>\n",
        "      <th>15</th>\n",
        "      <td> 1</td>\n",
        "      <td> 0.3931</td>\n",
        "      <td> spd</td>\n",
        "      <td> anodal</td>\n",
        "    </tr>\n",
        "    <tr>\n",
        "      <th>17</th>\n",
        "      <td> 7</td>\n",
        "      <td> 0.2697</td>\n",
        "      <td> spd</td>\n",
        "      <td> anodal</td>\n",
        "    </tr>\n",
        "    <tr>\n",
        "      <th>18</th>\n",
        "      <td> 5</td>\n",
        "      <td> 0.4500</td>\n",
        "      <td> spd</td>\n",
        "      <td> anodal</td>\n",
        "    </tr>\n",
        "    <tr>\n",
        "      <th>19</th>\n",
        "      <td> 3</td>\n",
        "      <td> 0.3912</td>\n",
        "      <td> spd</td>\n",
        "      <td> anodal</td>\n",
        "    </tr>\n",
        "    <tr>\n",
        "      <th>21</th>\n",
        "      <td> 2</td>\n",
        "      <td> 0.4259</td>\n",
        "      <td> spd</td>\n",
        "      <td>   sham</td>\n",
        "    </tr>\n",
        "    <tr>\n",
        "      <th>23</th>\n",
        "      <td> 4</td>\n",
        "      <td> 0.3469</td>\n",
        "      <td> spd</td>\n",
        "      <td>   sham</td>\n",
        "    </tr>\n",
        "    <tr>\n",
        "      <th>27</th>\n",
        "      <td> 6</td>\n",
        "      <td> 0.3776</td>\n",
        "      <td> spd</td>\n",
        "      <td>   sham</td>\n",
        "    </tr>\n",
        "  </tbody>\n",
        "</table>\n",
        "</div>"
       ],
       "metadata": {},
       "output_type": "pyout",
       "prompt_number": 43,
       "text": [
        "   subj_idx      t0 acc_spd stimulation\n",
        "1         1  0.4299     acc      anodal\n",
        "3         7  0.2723     acc      anodal\n",
        "4         5  0.5314     acc      anodal\n",
        "5         3  0.5259     acc      anodal\n",
        "7         2  0.4718     acc        sham\n",
        "9         4  0.3533     acc        sham\n",
        "13        6  0.3737     acc        sham\n",
        "15        1  0.3931     spd      anodal\n",
        "17        7  0.2697     spd      anodal\n",
        "18        5  0.4500     spd      anodal\n",
        "19        3  0.3912     spd      anodal\n",
        "21        2  0.4259     spd        sham\n",
        "23        4  0.3469     spd        sham\n",
        "27        6  0.3776     spd        sham"
       ]
      }
     ],
     "prompt_number": 43
    },
    {
     "cell_type": "markdown",
     "metadata": {},
     "source": [
      "Let's make some nice plots using [seaborn](http://web.stanford.edu/~mwaskom/software/seaborn/)"
     ]
    },
    {
     "cell_type": "code",
     "collapsed": false,
     "input": [
      "import seaborn as sns"
     ],
     "language": "python",
     "metadata": {},
     "outputs": [],
     "prompt_number": 44
    },
    {
     "cell_type": "code",
     "collapsed": false,
     "input": [
      "p = pars.melted_parameters('t0')\n",
      "sns.factorplot('acc_spd', 't0', hue='stimulation', data=p, units='subj_idx',)"
     ],
     "language": "python",
     "metadata": {},
     "outputs": [
      {
       "metadata": {},
       "output_type": "pyout",
       "prompt_number": 45,
       "text": [
        "<seaborn.axisgrid.FacetGrid at 0x62cd290>"
       ]
      },
      {
       "metadata": {},
       "output_type": "display_data",
       "png": "[encoded data removed]",
       "text": [
        "<matplotlib.figure.Figure at 0x6062290>"
       ]
      }
     ],
     "prompt_number": 45
    },
    {
     "cell_type": "code",
     "collapsed": false,
     "input": [
      "p = pars.melted_parameters('a')\n",
      "sns.factorplot('stimulation', 'a', hue='acc_spd', data=p, units='subj_idx',)"
     ],
     "language": "python",
     "metadata": {},
     "outputs": [
      {
       "metadata": {},
       "output_type": "pyout",
       "prompt_number": 47,
       "text": [
        "<seaborn.axisgrid.FacetGrid at 0x62a47d0>"
       ]
      },
      {
       "metadata": {},
       "output_type": "display_data",
       "png": "[encoded data removed]",
       "text": [
        "<matplotlib.figure.Figure at 0x62ba7d0>"
       ]
      }
     ],
     "prompt_number": 47
    }
   ],
   "metadata": {}
  }
 ]
}